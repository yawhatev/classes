{
 "cells": [
  {
   "cell_type": "markdown",
   "metadata": {},
   "source": [
    "# day 1 and day 2 \n",
    "- git and github"
   ]
  },
  {
   "cell_type": "markdown",
   "metadata": {},
   "source": [
    "# day3"
   ]
  },
  {
   "cell_type": "markdown",
   "metadata": {},
   "source": [
    "# varibles:\n",
    "* var garera assign garim vane purai program ma tei value basxa\n",
    "* let garim vane tyo particular block ma matra value assign hunxa\n",
    "* const le constant define hunxa\n",
    "* mostly used const and let"
   ]
  },
  {
   "cell_type": "markdown",
   "metadata": {},
   "source": [
    "C: int, float, boolean, string, char, long, double, etc\n",
    "js: number, boolean, string, arrays, objects\n",
    "objects vanya list ko form ma rakheko hunxa\n",
    "array of objects also possible"
   ]
  },
  {
   "cell_type": "markdown",
   "metadata": {},
   "source": [
    "operators:\n",
    "assignment operators: +,-,*,/,%,++,--\n",
    "logical: &&,||,!"
   ]
  },
  {
   "cell_type": "markdown",
   "metadata": {},
   "source": [
    "**a program that prints all even numbers from 1 to 50**\n"
   ]
  },
  {
   "cell_type": "code",
   "execution_count": null,
   "metadata": {
    "vscode": {
     "languageId": "plaintext"
    }
   },
   "outputs": [],
   "source": [
    "for(let i=1; i<=50; i++){\n",
    "    if(i%2 === 0){ // '==' is used for comparison, '===' is used for comparison and type checking\n",
    "// 2=='2' is true, 2==='2' is false\n",
    "        console.log(i);\n",
    "    }\n",
    "}"
   ]
  },
  {
   "cell_type": "markdown",
   "metadata": {},
   "source": [
    "**create a calculator function that takes two numbers and an operator(+,-,*,/) as argument of the function and returns the result. hint:switch()**"
   ]
  },
  {
   "cell_type": "code",
   "execution_count": null,
   "metadata": {
    "vscode": {
     "languageId": "plaintext"
    }
   },
   "outputs": [],
   "source": [
    "function calculator(num1, num2, operator) {\n",
    "    switch (operator) {\n",
    "        case '+':\n",
    "            return num1 + num2;\n",
    "        case '-':\n",
    "            return num1 - num2;\n",
    "        case '*':\n",
    "            return num1 * num2;\n",
    "        case '/':\n",
    "            return num1 / num2;\n",
    "        default:\n",
    "            return 'Invalid operator';\n",
    "    }\n",
    "}\n",
    "//example usages of the function\n",
    "console.log(calculator(5, 3, '+')); // Output: 8\n",
    "console.log(calculator(5, 3, '-')); // Output: 2\n",
    "console.log(calculator(5, 3, '*')); // Output: 15\n",
    "console.log(calculator(5, 3, '/')); // Output: 1.6666666666666667\n",
    "console.log(calculator(5, 3, '%')); // Output: Invalid operator\n"
   ]
  },
  {
   "cell_type": "markdown",
   "metadata": {},
   "source": [
    "**Defining Variables with Different Data Types and Logging their Types**"
   ]
  },
  {
   "cell_type": "code",
   "execution_count": null,
   "metadata": {
    "vscode": {
     "languageId": "plaintext"
    }
   },
   "outputs": [],
   "source": [
    "let name = 'John Doe'; // String\n",
    "let age = 25; // Number\n",
    "let isMarried = false; // Boolean\n",
    "let childrenNames = ['Alice', 'Bob']; // Array\n",
    "let years= null; // Null\n",
    "let car = undefined; // Undefined\n",
    "\n",
    "console.log(typeof name); // Output: string \n",
    "console.log(typeof age); // Output: number  \n",
    "console.log(typeof isMarried); // Output: boolean\n",
    "console.log(typeof childrenNames); // Output: object\n",
    "console.log(typeof years); // Output: object\n",
    "console.log(typeof car); // Output: undefined\n",
    "console.log(typeof x); // Output: undefined"
   ]
  },
  {
   "cell_type": "markdown",
   "metadata": {},
   "source": [
    "**a person class with name, age and method introduce that logs a message**"
   ]
  },
  {
   "cell_type": "code",
   "execution_count": null,
   "metadata": {
    "vscode": {
     "languageId": "plaintext"
    }
   },
   "outputs": [],
   "source": [
    "class Person {\n",
    "    constructor(name, age) {\n",
    "        this.name = name;\n",
    "        this.age = age;\n",
    "    }\n",
    "    introduce() {\n",
    "        console.log(`Hello, my name is ${this.name} and I am ${this.age} years old`);\n",
    "    }\n",
    "}\n",
    "\n",
    "const person1 = new Person('Alice', 25);\n",
    "person1.introduce(); // Output: Hello, my name is Alice and I am 25 years old"
   ]
  },
  {
   "cell_type": "markdown",
   "metadata": {},
   "source": [
    "**Declaring Variables with var, let, and const and reassigning them; note the errors**"
   ]
  },
  {
   "cell_type": "code",
   "execution_count": null,
   "metadata": {
    "vscode": {
     "languageId": "plaintext"
    }
   },
   "outputs": [],
   "source": [
    "var x = 5;\n",
    "let y = 10;\n",
    "const z = 15;\n",
    "\n",
    "x = 50;\n",
    "y = 100;\n",
    "z = 150; // TypeError: Assignment to constant variable.\n",
    "\n",
    "console.log(x); // Output: 50\n",
    "console.log(y); // Output: 100\n",
    "console.log(z); // Output: 150"
   ]
  },
  {
   "cell_type": "markdown",
   "metadata": {},
   "source": [
    "**function findMax to Find the Maximum Number in an Array**"
   ]
  },
  {
   "cell_type": "code",
   "execution_count": null,
   "metadata": {
    "vscode": {
     "languageId": "plaintext"
    }
   },
   "outputs": [],
   "source": [
    "function findMax(arr) {\n",
    "    let max = arr[0];\n",
    "    for (let i = 1; i < arr.length; i++) {\n",
    "        if (arr[i] > max) {\n",
    "            max = arr[i];\n",
    "        }\n",
    "    }\n",
    "    return max;\n",
    "}\n",
    "console.log(findMax([5, 2, 9, 1, 5, 6])); // Output: 9"
   ]
  },
  {
   "cell_type": "markdown",
   "metadata": {},
   "source": [
    "**Object car with Properties and getDetails Method**"
   ]
  },
  {
   "cell_type": "code",
   "execution_count": null,
   "metadata": {
    "vscode": {
     "languageId": "plaintext"
    }
   },
   "outputs": [],
   "source": [
    "const car = {\n",
    "    brand: 'Toyota',\n",
    "    model: 'Corolla',\n",
    "    getDetails: function() {//getDetails is a method of the car object\n",
    "        console.log(`This car is a ${this.brand} ${this.model}`);//this refers to the object that the method is called on\n",
    "    }\n",
    "};\n",
    "console.log(car.getDetails); //yesle output didaina getDetails() function ko reference matra dincha\n",
    "car.getDetails(); // Output: This car is a Toyota Corolla"
   ]
  },
  {
   "cell_type": "markdown",
   "metadata": {},
   "source": [
    "**Convert a traditional function that calculates the square of a number into an arrow function.**"
   ]
  },
  {
   "cell_type": "code",
   "execution_count": null,
   "metadata": {
    "vscode": {
     "languageId": "plaintext"
    }
   },
   "outputs": [],
   "source": [
    "function getsquare(num) {\n",
    "    return num * num;\n",
    "}\n",
    "console.log(getsquare(5)); // Output: 25\n",
    "\n",
    "//Write a program that iterates over an array of names and logs each name to the console with its index.\n",
    "const names = ['Alice', 'Bob', 'Charlie', 'Deborah'];\n",
    "for (let i = 0; i < names.length; i++) {// names.lenght is the number of elements in the array\n",
    "    console.log(`Index ${i}: ${names[i]}`);\n",
    "}"
   ]
  },
  {
   "cell_type": "markdown",
   "metadata": {},
   "source": [
    "**Write a program that filters out even numbers from an array and returns a new array with only the odd numbers**"
   ]
  },
  {
   "cell_type": "code",
   "execution_count": null,
   "metadata": {
    "vscode": {
     "languageId": "plaintext"
    }
   },
   "outputs": [],
   "source": [
    "const numbers = [1, 2, 3, 4, 5, 6, 7, 8, 9]; \n",
    "const oddNumbers = numbers.filter(function(num) {//filter() method creates a new array with all elements that pass the test implemented by the provided function.\n",
    "    return num % 2 !== 0;\n",
    "});\n",
    "console.log(oddNumbers); // Output: [1, 3, 5, 7, 9]\n"
   ]
  },
  {
   "cell_type": "markdown",
   "metadata": {},
   "source": [
    "**Use template literals to log a sentence.**"
   ]
  },
  {
   "cell_type": "code",
   "execution_count": null,
   "metadata": {
    "vscode": {
     "languageId": "plaintext"
    }
   },
   "outputs": [],
   "source": [
    "const name = 'Alice';\n",
    "const age = 25;\n",
    "console.log(`Hello, my name is ${name} and I am ${age} years old`); "
   ]
  },
  {
   "cell_type": "markdown",
   "metadata": {},
   "source": [
    "**Create a Book class with properties title, author, and year. Add a method to display information about the book using template literals.**"
   ]
  },
  {
   "cell_type": "code",
   "execution_count": null,
   "metadata": {
    "vscode": {
     "languageId": "plaintext"
    }
   },
   "outputs": [],
   "source": [
    "class Book { //c++ jastai class ko object banauna milcha\n",
    "    constructor(title, author, year) {\n",
    "        this.title = title;\n",
    "        this.author = author;\n",
    "        this.year = year;\n",
    "    }\n",
    "    displayInfo() {\n",
    "        console.log(`The book ${this.title} was written by ${this.author} in ${this.year}`);\n",
    "    }\n",
    "}\n",
    "const book1 = new Book('The Alchemist', 'Paulo Coelho', 1988);\n",
    "book1.displayInfo(); // Output: The book The Alchemist was written by Paulo Coelho in "
   ]
  },
  {
   "cell_type": "markdown",
   "metadata": {},
   "source": [
    "**Use map to create a new array where each number in an array is doubled.**"
   ]
  },
  {
   "cell_type": "code",
   "execution_count": null,
   "metadata": {
    "vscode": {
     "languageId": "plaintext"
    }
   },
   "outputs": [],
   "source": [
    "const numbers = [1, 2, 3, 4, 5];\n",
    "const doubledNumbers = numbers.map(function(num) {//map() method creates a new array with the results of calling a provided function on every element in the calling array.\n",
    "    return num * 2;\n",
    "});\n",
    "console.log(doubledNumbers); // Output: [2, 4, 6, 8, 10]"
   ]
  },
  {
   "cell_type": "markdown",
   "metadata": {},
   "source": [
    "- traditional function:Defined with the function keyword. Can be named or anonymous. Can use the this keyword dynamically (depending on how it is called). \n",
    "- Arrow function: Does not use the function keyword.\n",
    "Automatically binds the this value to the surrounding context (lexical scoping).\n",
    "When there is a single expression, you can omit the {} and return statement (implicit return)"
   ]
  },
  {
   "cell_type": "markdown",
   "metadata": {},
   "source": [
    "- template literals to log a sentence means writing a string in JavaScript using backticks (`) instead of regular quotes (' or \").\n",
    "eg:console.log(`My name is ${name} and I am ${age} years old.`);\n",
    "- filter() method creates a new array with all elements that pass the test implemented by the provided function.\n",
    "map() method creates a new array with the results of calling a provided function on every element in the calling array.\n",
    "- map():Transforms every element of the array\n",
    "filter():Filters the array to include only elements that meet a condition.\n",
    "\n"
   ]
  },
  {
   "cell_type": "markdown",
   "metadata": {},
   "source": [
    "# day4\n",
    "\n",
    "**synchronous and asynchronous programming**\n",
    "- event loop\n",
    "- callback queue\n",
    "- call stack(each line of code aauxa ani execute hudai janxa ani arko aauxa)\n",
    "- aaile samma gareko synchronous ho \n",
    "- if there are factors like database,OS then asynchronous hunxa ie ali time lagxa\n",
    " "
   ]
  },
  {
   "cell_type": "markdown",
   "metadata": {},
   "source": [
    "promises:\n",
    "pending, resolved, rejected"
   ]
  },
  {
   "cell_type": "markdown",
   "metadata": {},
   "source": [
    "QUESTIONS:\n",
    "1. closures??"
   ]
  },
  {
   "cell_type": "markdown",
   "metadata": {},
   "source": [
    "**closure**"
   ]
  },
  {
   "cell_type": "code",
   "execution_count": null,
   "metadata": {
    "vscode": {
     "languageId": "plaintext"
    }
   },
   "outputs": [],
   "source": [
    "const firstFunction = () => {\n",
    "    console.log(\"I am first function\")\n",
    "\n",
    "    const secondFunction=()=>{\n",
    "        console.log(\"I am second function\")\n",
    "    }\n",
    "\n",
    "    return secondFunction\n",
    "}\n",
    "\n",
    "const closure = firstFunction()// 2nd function is returned or return section ko kura aayera basxa\n",
    "console.log(\"closure: \", closure)//output: closure: [Function: secondFunction]\n",
    "closure()//2nd function call hunxa"
   ]
  },
  {
   "cell_type": "markdown",
   "metadata": {},
   "source": [
    "**closure 2nd example**"
   ]
  },
  {
   "cell_type": "code",
   "execution_count": null,
   "metadata": {
    "vscode": {
     "languageId": "plaintext"
    }
   },
   "outputs": [],
   "source": [
    "\n",
    "const  incrementDecrement = () => {\n",
    "    let count = 0\n",
    "    return {\n",
    "        increment: () => {\n",
    "            count++\n",
    "        },\n",
    "        decrement: () => {\n",
    "            count--\n",
    "        },\n",
    "        getCount: () => {\n",
    "            return count\n",
    "        }\n",
    "    }\n",
    "}\n",
    "\n",
    "const counter = incrementDecrement()//counter is a closure\n",
    "console.log(\"counter: \", counter)//output: counter: { increment: [Function: increment], decrement: [Function: decrement], getCount: [Function: getCount] }\n",
    "counter.increment()//count=1; counter ma dherai ota function bhako karan le counter.increment lekheko\n",
    "console.log(\"count: \", counter.getCount())//returns the value of count\n",
    "counter.decrement()\n",
    "console.log(\"count: \", counter.getCount())"
   ]
  },
  {
   "cell_type": "markdown",
   "metadata": {},
   "source": [
    "**callbacks**"
   ]
  },
  {
   "cell_type": "code",
   "execution_count": null,
   "metadata": {
    "vscode": {
     "languageId": "plaintext"
    }
   },
   "outputs": [],
   "source": [
    "const sum = (x,y,callback)=>{\n",
    "    callback(x+y)\n",
    "}\n",
    "sum(5,10,(s)=>{//s call back ma gayera basxa, ani compute bhaisakesi return hunxa value\n",
    "    console.log(\"The sum of the numbers is: \", s)\n",
    "});"
   ]
  },
  {
   "cell_type": "markdown",
   "metadata": {},
   "source": [
    "**another example** \n",
    "- how does this work?"
   ]
  },
  {
   "cell_type": "code",
   "execution_count": null,
   "metadata": {
    "vscode": {
     "languageId": "plaintext"
    }
   },
   "outputs": [],
   "source": [
    "const fetchData = (callback) => {\n",
    "    let data = \"Data from the server\"\n",
    "\n",
    "    if(false){\n",
    "        callback(null, data)\n",
    "    }else{\n",
    "        callback(\"No data found\", null)\n",
    "    }\n",
    "}\n",
    "fetchData((error, result)=>{\n",
    "    if(error){\n",
    "        console.log(\"Error: \", error)\n",
    "    }else{\n",
    "        console.log(\"Result: \", result)\n",
    "    }\n",
    "}); "
   ]
  },
  {
   "cell_type": "markdown",
   "metadata": {},
   "source": [
    "**Promise**\n",
    "- pending, resolved, rejected"
   ]
  },
  {
   "cell_type": "markdown",
   "metadata": {},
   "source": [
    "const newpromise = new Promise((resolve, reject)=>{\n",
    "    let data = \"Data from the server\"\n",
    "    console.log(\"resolve: \", resolve)\n",
    "    console.log(\"reject: \", reject)\n",
    "    if(data){\n",
    "        resolve(data)\n",
    "    }else{\n",
    "        reject(\"No data found\")\n",
    "    }\n",
    "}\n",
    ")\n",
    "\n",
    "\n",
    "newpromise\n",
    ".then((result)=>{\n",
    "    console.log(\"Result: \", result)\n",
    "}).catch((error)=>{\n",
    "    console.log(\"Error: \", error)\n",
    "}).finally(()=>{\n",
    "    console.log(\"Promise done\")\n",
    "})"
   ]
  },
  {
   "cell_type": "markdown",
   "metadata": {},
   "source": [
    "**Promise Chaining**"
   ]
  },
  {
   "cell_type": "code",
   "execution_count": null,
   "metadata": {
    "vscode": {
     "languageId": "plaintext"
    }
   },
   "outputs": [],
   "source": [
    "\n",
    "const func1 = () =>{\n",
    "    return new Promise((resolve, reject)=>{\n",
    "        resolve(\"Function 1\")\n",
    "    });\n",
    "}\n",
    "const func2 = () =>{\n",
    "    return new Promise((resolve, reject)=>{\n",
    "        resolve(\"Function 2\")\n",
    "    });\n",
    "}\n",
    "const func3 = () =>{\n",
    "    return new Promise((resolve, reject)=>{\n",
    "        resolve(\"Function 3\")\n",
    "    });\n",
    "}\n",
    "\n",
    "const data = func1().then((result)=>{\n",
    "    console.log(\"Result1: \", result)\n",
    "    return func2()\n",
    "}).then((result)=>{\n",
    "    console.log(\"Result2: \", result)\n",
    "    return func3()\n",
    "}).then((result)=>{\n",
    "})\n",
    "//output\n",
    "resolve:  [Function (anonymous)]\n",
    "reject:  [Function (anonymous)]\n",
    "Result:  Data from the server\n",
    "Promise done "
   ]
  }
 ],
 "metadata": {
  "language_info": {
   "name": "python"
  }
 },
 "nbformat": 4,
 "nbformat_minor": 2
}
