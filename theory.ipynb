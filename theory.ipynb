{
 "cells": [
  {
   "cell_type": "markdown",
   "metadata": {},
   "source": [
    "**day 1 and day 2 for git and github**"
   ]
  },
  {
   "cell_type": "markdown",
   "metadata": {},
   "source": [
    "# day3"
   ]
  },
  {
   "cell_type": "markdown",
   "metadata": {},
   "source": [
    "# varibles:\n",
    "* var garera assign garim vane purai program ma tei value basxa\n",
    "* let garim vane tyo particular block ma matra value assign hunxa\n",
    "* const le constant define hunxa\n",
    "* mostly used const and let"
   ]
  },
  {
   "cell_type": "markdown",
   "metadata": {},
   "source": [
    "C: int, float, boolean, string, char, long, double, etc\n",
    "js: number, boolean, string, arrays, objects\n",
    "objects vanya list ko form ma rakheko hunxa\n",
    "array of objects also possible"
   ]
  },
  {
   "cell_type": "markdown",
   "metadata": {},
   "source": [
    "operators:\n",
    "assignment operators: +,-,*,/,%,++,--\n",
    "logical: &&,||,!"
   ]
  },
  {
   "cell_type": "markdown",
   "metadata": {},
   "source": [
    "# day4\n",
    "\n",
    "**synchronous and asynchronous programming**\n",
    "- event loop\n",
    "- callback queue\n",
    "- call stack(each line of code aauxa ani execute hudai janxa ani arko aauxa)\n",
    "- aaile samma gareko synchronous ho \n",
    "- if there are factors like database,OS then asynchronous hunxa ie ali time lagxa\n",
    " "
   ]
  },
  {
   "cell_type": "markdown",
   "metadata": {},
   "source": [
    "promises:\n",
    "pending, resolved, rejected"
   ]
  },
  {
   "cell_type": "markdown",
   "metadata": {},
   "source": [
    "QUESTIONS:\n",
    "1. closures??"
   ]
  },
  {
   "cell_type": "code",
   "execution_count": null,
   "metadata": {
    "vscode": {
     "languageId": "plaintext"
    }
   },
   "outputs": [],
   "source": []
  }
 ],
 "metadata": {
  "language_info": {
   "name": "python"
  }
 },
 "nbformat": 4,
 "nbformat_minor": 2
}
